{
  "nbformat": 4,
  "nbformat_minor": 0,
  "metadata": {
    "colab": {
      "name": "Calorias.ipynb",
      "provenance": [],
      "collapsed_sections": [],
      "authorship_tag": "ABX9TyN4hptkDUdP9HFPQo9+xEFe",
      "include_colab_link": true
    },
    "kernelspec": {
      "name": "python3",
      "display_name": "Python 3"
    },
    "language_info": {
      "name": "python"
    }
  },
  "cells": [
    {
      "cell_type": "markdown",
      "metadata": {
        "id": "view-in-github",
        "colab_type": "text"
      },
      "source": [
        "<a href=\"https://colab.research.google.com/github/SliversPlayer/DataScienceModulo1/blob/main/Calorias.ipynb\" target=\"_parent\"><img src=\"https://colab.research.google.com/assets/colab-badge.svg\" alt=\"Open In Colab\"/></a>"
      ]
    },
    {
      "cell_type": "code",
      "execution_count": 9,
      "metadata": {
        "colab": {
          "base_uri": "https://localhost:8080/"
        },
        "id": "xwzVq5T-MFoe",
        "outputId": "1e203873-cc81-4013-c9ea-443f066d408e"
      },
      "outputs": [
        {
          "output_type": "stream",
          "name": "stdout",
          "text": [
            "Según la información nutricional de la etiqueta, ingrese la siguiente información:\n",
            "Proteinas:9.6\n",
            "Carbohidratos: 46\n",
            "Grasa: 35\n",
            "Las calorías totales del producto son: 538 calorias\n"
          ]
        }
      ],
      "source": [
        "# 4 Calorias x 1 gramo de proteina o carbo\n",
        "# 9 calorias x 1 gramo de grasa\n",
        "import math\n",
        "\n",
        "proteinas = float(input(\"Según la información nutricional de la etiqueta, ingrese la siguiente información:\\nProteinas:\"))\n",
        "carbohidratos = float(input(\"Carbohidratos: \"))\n",
        "grasa = float(input(\"Grasa: \"))\n",
        "\n",
        "calorias  = 4 * (proteinas + carbohidratos) + 9 * grasa\n",
        "print(f\"Las calorías totales del producto son: {math.ceil(calorias)} calorias\")"
      ]
    }
  ]
}